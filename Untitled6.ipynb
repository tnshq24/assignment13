{
 "cells": [
  {
   "cell_type": "code",
   "execution_count": 43,
   "id": "3060b1d0-15b8-4046-a3f5-a74929084e2b",
   "metadata": {},
   "outputs": [],
   "source": [
    "import pandas as pd"
   ]
  },
  {
   "cell_type": "code",
   "execution_count": 15,
   "id": "c00377b8-a142-4503-ab00-3332b3e98290",
   "metadata": {},
   "outputs": [],
   "source": [
    "#Q1\n",
    "df = pd.Series([4, 8, 15, 16, 23, 42])"
   ]
  },
  {
   "cell_type": "code",
   "execution_count": 7,
   "id": "acd711c2-d94a-486a-858e-0c3e5e887fff",
   "metadata": {},
   "outputs": [
    {
     "data": {
      "text/plain": [
       "pandas.core.series.Series"
      ]
     },
     "execution_count": 7,
     "metadata": {},
     "output_type": "execute_result"
    }
   ],
   "source": [
    "type(df)"
   ]
  },
  {
   "cell_type": "code",
   "execution_count": 8,
   "id": "aea6bd09-dd34-4937-a873-519bbd2e0ac4",
   "metadata": {},
   "outputs": [
    {
     "data": {
      "text/plain": [
       "0     4\n",
       "1     8\n",
       "2    15\n",
       "3    16\n",
       "4    23\n",
       "5    42\n",
       "dtype: int64"
      ]
     },
     "execution_count": 8,
     "metadata": {},
     "output_type": "execute_result"
    }
   ],
   "source": [
    "df"
   ]
  },
  {
   "cell_type": "code",
   "execution_count": 17,
   "id": "a6890be0-3b54-418e-99ad-0883113ceafb",
   "metadata": {},
   "outputs": [],
   "source": [
    "#Q2\n",
    "a = [4,3,5,3,27,9,6,8,3,5]"
   ]
  },
  {
   "cell_type": "code",
   "execution_count": 11,
   "id": "b1d77ca0-32c0-41cd-aaca-124a39bdc408",
   "metadata": {},
   "outputs": [],
   "source": [
    "df_a = pd.Series(a)"
   ]
  },
  {
   "cell_type": "code",
   "execution_count": 13,
   "id": "949255ab-a2bc-4aec-a2dc-bca5775fe718",
   "metadata": {},
   "outputs": [
    {
     "data": {
      "text/plain": [
       "pandas.core.series.Series"
      ]
     },
     "execution_count": 13,
     "metadata": {},
     "output_type": "execute_result"
    }
   ],
   "source": [
    "type(df_a)"
   ]
  },
  {
   "cell_type": "code",
   "execution_count": 18,
   "id": "20bba9c4-ccd5-4669-846e-cfec8708998a",
   "metadata": {},
   "outputs": [],
   "source": [
    "#Q3\n",
    "data = [['Alice',25,'Female'],['Bob',30,'Male'],['Claire',27,'Female']]"
   ]
  },
  {
   "cell_type": "code",
   "execution_count": 19,
   "id": "0d543b20-05d5-4032-97d3-662982066d74",
   "metadata": {},
   "outputs": [],
   "source": [
    "df = pd.DataFrame(data, columns = ['Name','Age','Gender'])"
   ]
  },
  {
   "cell_type": "code",
   "execution_count": 20,
   "id": "c005d07a-672d-4627-87a7-df56753cde3f",
   "metadata": {},
   "outputs": [
    {
     "data": {
      "text/html": [
       "<div>\n",
       "<style scoped>\n",
       "    .dataframe tbody tr th:only-of-type {\n",
       "        vertical-align: middle;\n",
       "    }\n",
       "\n",
       "    .dataframe tbody tr th {\n",
       "        vertical-align: top;\n",
       "    }\n",
       "\n",
       "    .dataframe thead th {\n",
       "        text-align: right;\n",
       "    }\n",
       "</style>\n",
       "<table border=\"1\" class=\"dataframe\">\n",
       "  <thead>\n",
       "    <tr style=\"text-align: right;\">\n",
       "      <th></th>\n",
       "      <th>Name</th>\n",
       "      <th>Age</th>\n",
       "      <th>Gender</th>\n",
       "    </tr>\n",
       "  </thead>\n",
       "  <tbody>\n",
       "    <tr>\n",
       "      <th>0</th>\n",
       "      <td>Alice</td>\n",
       "      <td>25</td>\n",
       "      <td>Female</td>\n",
       "    </tr>\n",
       "    <tr>\n",
       "      <th>1</th>\n",
       "      <td>Bob</td>\n",
       "      <td>30</td>\n",
       "      <td>Male</td>\n",
       "    </tr>\n",
       "    <tr>\n",
       "      <th>2</th>\n",
       "      <td>Claire</td>\n",
       "      <td>27</td>\n",
       "      <td>Female</td>\n",
       "    </tr>\n",
       "  </tbody>\n",
       "</table>\n",
       "</div>"
      ],
      "text/plain": [
       "     Name  Age  Gender\n",
       "0   Alice   25  Female\n",
       "1     Bob   30    Male\n",
       "2  Claire   27  Female"
      ]
     },
     "execution_count": 20,
     "metadata": {},
     "output_type": "execute_result"
    }
   ],
   "source": [
    "df"
   ]
  },
  {
   "cell_type": "code",
   "execution_count": 41,
   "id": "58646b4f-a713-452f-b37f-e468ce2aee89",
   "metadata": {},
   "outputs": [
    {
     "name": "stdout",
     "output_type": "stream",
     "text": [
      "This is an example of a dataframe:\n",
      "------------------------\n",
      "     Name  Age  Gender\n",
      "0   Alice   25  Female\n",
      "1     Bob   30    Male\n",
      "2  Claire   27  Female\n",
      "   \n",
      "   \n",
      "This is an example of a series:\n",
      " [4, 3, 5, 3, 27, 9, 6, 8, 3, 5]\n"
     ]
    }
   ],
   "source": [
    "#Q4\n",
    "#Pandas DataFrame is a 2-dimensional labeled \n",
    "#data structure like any table with rows and columns. Series is a 1-dimensional\n",
    "#labled data structure.\n",
    "\n",
    "print(\"This is an example of a dataframe:\")\n",
    "print('------------------------')\n",
    "print(df)\n",
    "for _ in range(2):\n",
    "    print(\"   \")\n",
    "print(\"This is an example of a series:\\n\",a)"
   ]
  },
  {
   "cell_type": "code",
   "execution_count": null,
   "id": "2131988e-8f76-4319-a095-2efdf4c729cd",
   "metadata": {},
   "outputs": [],
   "source": [
    "#Q5\n",
    "#there are lots of functions in general to manipulate data in pandas,\n",
    "#we can name some common ones, like head,tail,to_csv,etc "
   ]
  },
  {
   "cell_type": "code",
   "execution_count": null,
   "id": "7a69db05-0708-4e07-9aa5-1e806e089034",
   "metadata": {},
   "outputs": [],
   "source": [
    "#Q6\n",
    "#Series, Dataframe and Panel are mutable"
   ]
  },
  {
   "cell_type": "code",
   "execution_count": 51,
   "id": "49ce3d8a-9dfd-496d-ba12-700f52df0471",
   "metadata": {},
   "outputs": [],
   "source": [
    "#Q7\n",
    "b = [3,45,2,4,2]\n",
    "c = [3,42,4,5,4]\n",
    "data = list(zip(a,b))\n",
    "df = pd.DataFrame(data,columns=['number1','number2'])"
   ]
  },
  {
   "cell_type": "code",
   "execution_count": 52,
   "id": "9ef3c838-2958-41ac-8fd6-b5781a969f68",
   "metadata": {},
   "outputs": [
    {
     "data": {
      "text/html": [
       "<div>\n",
       "<style scoped>\n",
       "    .dataframe tbody tr th:only-of-type {\n",
       "        vertical-align: middle;\n",
       "    }\n",
       "\n",
       "    .dataframe tbody tr th {\n",
       "        vertical-align: top;\n",
       "    }\n",
       "\n",
       "    .dataframe thead th {\n",
       "        text-align: right;\n",
       "    }\n",
       "</style>\n",
       "<table border=\"1\" class=\"dataframe\">\n",
       "  <thead>\n",
       "    <tr style=\"text-align: right;\">\n",
       "      <th></th>\n",
       "      <th>number1</th>\n",
       "      <th>number2</th>\n",
       "    </tr>\n",
       "  </thead>\n",
       "  <tbody>\n",
       "    <tr>\n",
       "      <th>0</th>\n",
       "      <td>4</td>\n",
       "      <td>3</td>\n",
       "    </tr>\n",
       "    <tr>\n",
       "      <th>1</th>\n",
       "      <td>3</td>\n",
       "      <td>45</td>\n",
       "    </tr>\n",
       "    <tr>\n",
       "      <th>2</th>\n",
       "      <td>5</td>\n",
       "      <td>2</td>\n",
       "    </tr>\n",
       "    <tr>\n",
       "      <th>3</th>\n",
       "      <td>3</td>\n",
       "      <td>4</td>\n",
       "    </tr>\n",
       "    <tr>\n",
       "      <th>4</th>\n",
       "      <td>27</td>\n",
       "      <td>2</td>\n",
       "    </tr>\n",
       "  </tbody>\n",
       "</table>\n",
       "</div>"
      ],
      "text/plain": [
       "   number1  number2\n",
       "0        4        3\n",
       "1        3       45\n",
       "2        5        2\n",
       "3        3        4\n",
       "4       27        2"
      ]
     },
     "execution_count": 52,
     "metadata": {},
     "output_type": "execute_result"
    }
   ],
   "source": [
    "df"
   ]
  },
  {
   "cell_type": "code",
   "execution_count": 53,
   "id": "684f7022-c965-49c9-b050-16c0501cfca2",
   "metadata": {},
   "outputs": [
    {
     "data": {
      "text/plain": [
       "pandas.core.frame.DataFrame"
      ]
     },
     "execution_count": 53,
     "metadata": {},
     "output_type": "execute_result"
    }
   ],
   "source": [
    "type(df)"
   ]
  },
  {
   "cell_type": "code",
   "execution_count": null,
   "id": "3d98c6f0-b485-4fde-b75c-7bb68b2d1908",
   "metadata": {},
   "outputs": [],
   "source": []
  }
 ],
 "metadata": {
  "kernelspec": {
   "display_name": "Python 3 (ipykernel)",
   "language": "python",
   "name": "python3"
  },
  "language_info": {
   "codemirror_mode": {
    "name": "ipython",
    "version": 3
   },
   "file_extension": ".py",
   "mimetype": "text/x-python",
   "name": "python",
   "nbconvert_exporter": "python",
   "pygments_lexer": "ipython3",
   "version": "3.10.8"
  }
 },
 "nbformat": 4,
 "nbformat_minor": 5
}
